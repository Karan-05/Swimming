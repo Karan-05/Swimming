{
 "cells": [
  {
   "cell_type": "markdown",
   "metadata": {
    "id": "b-tyR-v5AfcW"
   },
   "source": [
    "# Imports"
   ]
  },
  {
   "cell_type": "code",
   "execution_count": 1,
   "metadata": {
    "colab": {
     "base_uri": "https://localhost:8080/"
    },
    "id": "LJYLR9Xf6oa8",
    "outputId": "468f6453-4748-45b7-d015-38826fcb4b42"
   },
   "outputs": [],
   "source": [
    "# !pip install -q git+https://github.com/tensorflow/docs"
   ]
  },
  {
   "cell_type": "code",
   "execution_count": 2,
   "metadata": {},
   "outputs": [],
   "source": [
    "# !pip install imutils"
   ]
  },
  {
   "cell_type": "code",
   "execution_count": 3,
   "metadata": {
    "colab": {
     "base_uri": "https://localhost:8080/"
    },
    "id": "JqS3Dm6w7GBj",
    "outputId": "40aaaee4-cd68-414e-b186-066e8f6248b7"
   },
   "outputs": [],
   "source": [
    "#from google.colab import drive\n",
    "#drive.mount('/content/gdrive')"
   ]
  },
  {
   "cell_type": "code",
   "execution_count": 4,
   "metadata": {
    "id": "MUaH3f_07Zo7"
   },
   "outputs": [],
   "source": [
    "from tensorflow_docs.vis import embed\n",
    "from tensorflow import keras\n",
    "from imutils import paths\n",
    "\n",
    "import matplotlib.pyplot as plt\n",
    "import tensorflow as tf\n",
    "import pandas as pd\n",
    "import numpy as np\n",
    "import imageio\n",
    "import cv2\n",
    "import os"
   ]
  },
  {
   "cell_type": "code",
   "execution_count": 5,
   "metadata": {
    "id": "LKxPBhw971ll"
   },
   "outputs": [],
   "source": [
    "IMG_SIZE = 224\n",
    "BATCH_SIZE = 64\n",
    "EPOCHS = 10\n",
    "\n",
    "MAX_SEQ_LENGTH = 20\n",
    "NUM_FEATURES = 300000"
   ]
  },
  {
   "cell_type": "markdown",
   "metadata": {
    "id": "mR1-hwGIA4pd"
   },
   "source": [
    "# Define path"
   ]
  },
  {
   "cell_type": "code",
   "execution_count": 6,
   "metadata": {
    "id": "Pu-1fDv08MLz"
   },
   "outputs": [],
   "source": [
    "#trainfilepath = (\"/content/gdrive/MyDrive/DissertationVideosSorted/train.csv\")\n",
    "#testfilepath = (\"/content/gdrive/MyDrive/DissertationVideosSorted/test.csv\")"
   ]
  },
  {
   "cell_type": "code",
   "execution_count": 7,
   "metadata": {},
   "outputs": [],
   "source": [
    "trainfilepath = (\"./vdataset/train.csv\")\n",
    "testfilepath = (\"./vdataset/test.csv\")"
   ]
  },
  {
   "cell_type": "code",
   "execution_count": null,
   "metadata": {},
   "outputs": [],
   "source": []
  },
  {
   "cell_type": "code",
   "execution_count": 8,
   "metadata": {
    "colab": {
     "base_uri": "https://localhost:8080/",
     "height": 398
    },
    "id": "m3t_U3Ri75gj",
    "outputId": "4d57945b-7137-4a13-d115-e896c8aeeac0"
   },
   "outputs": [
    {
     "name": "stdout",
     "output_type": "stream",
     "text": [
      "Total videos for training: 58\n",
      "Total videos for testing: 2\n"
     ]
    },
    {
     "data": {
      "text/html": [
       "<div>\n",
       "<style scoped>\n",
       "    .dataframe tbody tr th:only-of-type {\n",
       "        vertical-align: middle;\n",
       "    }\n",
       "\n",
       "    .dataframe tbody tr th {\n",
       "        vertical-align: top;\n",
       "    }\n",
       "\n",
       "    .dataframe thead th {\n",
       "        text-align: right;\n",
       "    }\n",
       "</style>\n",
       "<table border=\"1\" class=\"dataframe\">\n",
       "  <thead>\n",
       "    <tr style=\"text-align: right;\">\n",
       "      <th></th>\n",
       "      <th>video_name</th>\n",
       "      <th>tag</th>\n",
       "    </tr>\n",
       "  </thead>\n",
       "  <tbody>\n",
       "    <tr>\n",
       "      <th>28</th>\n",
       "      <td>/Users/whitepheonix/Downloads/vdataset/notdrow...</td>\n",
       "      <td>not drowning</td>\n",
       "    </tr>\n",
       "    <tr>\n",
       "      <th>20</th>\n",
       "      <td>/Users/whitepheonix/Downloads/vdataset/notdrow...</td>\n",
       "      <td>not drowning</td>\n",
       "    </tr>\n",
       "    <tr>\n",
       "      <th>41</th>\n",
       "      <td>/Users/whitepheonix/Downloads/vdataset/drownin...</td>\n",
       "      <td>drowning</td>\n",
       "    </tr>\n",
       "    <tr>\n",
       "      <th>14</th>\n",
       "      <td>/Users/whitepheonix/Downloads/vdataset/notdrow...</td>\n",
       "      <td>not drowning</td>\n",
       "    </tr>\n",
       "    <tr>\n",
       "      <th>7</th>\n",
       "      <td>/Users/whitepheonix/Downloads/vdataset/notdrow...</td>\n",
       "      <td>not drowning</td>\n",
       "    </tr>\n",
       "    <tr>\n",
       "      <th>42</th>\n",
       "      <td>/Users/whitepheonix/Downloads/vdataset/drownin...</td>\n",
       "      <td>drowning</td>\n",
       "    </tr>\n",
       "    <tr>\n",
       "      <th>5</th>\n",
       "      <td>/Users/whitepheonix/Downloads/vdataset/notdrow...</td>\n",
       "      <td>not drowning</td>\n",
       "    </tr>\n",
       "    <tr>\n",
       "      <th>46</th>\n",
       "      <td>/Users/whitepheonix/Downloads/vdataset/drownin...</td>\n",
       "      <td>drowning</td>\n",
       "    </tr>\n",
       "    <tr>\n",
       "      <th>16</th>\n",
       "      <td>/Users/whitepheonix/Downloads/vdataset/notdrow...</td>\n",
       "      <td>not drowning</td>\n",
       "    </tr>\n",
       "    <tr>\n",
       "      <th>55</th>\n",
       "      <td>/Users/whitepheonix/Downloads/vdataset/drownin...</td>\n",
       "      <td>drowning</td>\n",
       "    </tr>\n",
       "  </tbody>\n",
       "</table>\n",
       "</div>"
      ],
      "text/plain": [
       "                                           video_name           tag\n",
       "28  /Users/whitepheonix/Downloads/vdataset/notdrow...  not drowning\n",
       "20  /Users/whitepheonix/Downloads/vdataset/notdrow...  not drowning\n",
       "41  /Users/whitepheonix/Downloads/vdataset/drownin...      drowning\n",
       "14  /Users/whitepheonix/Downloads/vdataset/notdrow...  not drowning\n",
       "7   /Users/whitepheonix/Downloads/vdataset/notdrow...  not drowning\n",
       "42  /Users/whitepheonix/Downloads/vdataset/drownin...      drowning\n",
       "5   /Users/whitepheonix/Downloads/vdataset/notdrow...  not drowning\n",
       "46  /Users/whitepheonix/Downloads/vdataset/drownin...      drowning\n",
       "16  /Users/whitepheonix/Downloads/vdataset/notdrow...  not drowning\n",
       "55  /Users/whitepheonix/Downloads/vdataset/drownin...      drowning"
      ]
     },
     "execution_count": 8,
     "metadata": {},
     "output_type": "execute_result"
    }
   ],
   "source": [
    "train_df = pd.read_csv(trainfilepath)\n",
    "test_df = pd.read_csv(testfilepath)\n",
    "\n",
    "print(f\"Total videos for training: {len(train_df)}\")\n",
    "print(f\"Total videos for testing: {len(test_df)}\")\n",
    "\n",
    "train_df.sample(10)"
   ]
  },
  {
   "cell_type": "markdown",
   "metadata": {
    "id": "HcYVLxGMBCFl"
   },
   "source": [
    "# Data Processing Pipeline"
   ]
  },
  {
   "cell_type": "code",
   "execution_count": 9,
   "metadata": {
    "id": "QkRqFQkL8K-8"
   },
   "outputs": [],
   "source": [
    "def crop_center_square(frame):\n",
    "    y, x = frame.shape[0:2]\n",
    "    min_dim = min(y, x)\n",
    "    start_x = (x // 2) - (min_dim // 2)\n",
    "    start_y = (y // 2) - (min_dim // 2)\n",
    "    return frame[start_y : start_y + min_dim, start_x : start_x + min_dim]\n",
    "\n",
    "\n",
    "def load_video(path, max_frames=0, resize=(IMG_SIZE, IMG_SIZE)):\n",
    "    cap = cv2.VideoCapture(path)\n",
    "    frames = []\n",
    "    try:\n",
    "        while True:\n",
    "            ret, frame = cap.read()\n",
    "            if not ret:\n",
    "                break\n",
    "            frame = crop_center_square(frame)\n",
    "            frame = cv2.resize(frame, resize)\n",
    "            frame = frame[:, :, [2, 1, 0]]\n",
    "            frames.append(frame)\n",
    "\n",
    "            if len(frames) == max_frames:\n",
    "                break\n",
    "    finally:\n",
    "        cap.release()\n",
    "    return np.array(frames)"
   ]
  },
  {
   "cell_type": "markdown",
   "metadata": {
    "id": "wUWeWVcrhCLG"
   },
   "source": [
    "# Feature Extractor"
   ]
  },
  {
   "cell_type": "code",
   "execution_count": 10,
   "metadata": {
    "colab": {
     "base_uri": "https://localhost:8080/"
    },
    "id": "cIuFd9mTyoh4",
    "outputId": "b335f86b-2ee2-41d7-a23f-5ba9ce0ef630"
   },
   "outputs": [
    {
     "name": "stdout",
     "output_type": "stream",
     "text": [
      "Model: \"sequential\"\n",
      "_________________________________________________________________\n",
      " Layer (type)                Output Shape              Param #   \n",
      "=================================================================\n",
      " conv2d (Conv2D)             (None, 224, 224, 6)       456       \n",
      "                                                                 \n",
      " average_pooling2d (AverageP  (None, 112, 112, 6)      0         \n",
      " ooling2D)                                                       \n",
      "                                                                 \n",
      " conv2d_1 (Conv2D)           (None, 108, 108, 16)      2416      \n",
      "                                                                 \n",
      " average_pooling2d_1 (Averag  (None, 54, 54, 16)       0         \n",
      " ePooling2D)                                                     \n",
      "                                                                 \n",
      " conv2d_2 (Conv2D)           (None, 50, 50, 120)       48120     \n",
      "                                                                 \n",
      " flatten (Flatten)           (None, 300000)            0         \n",
      "                                                                 \n",
      "=================================================================\n",
      "Total params: 50,992\n",
      "Trainable params: 50,992\n",
      "Non-trainable params: 0\n",
      "_________________________________________________________________\n"
     ]
    },
    {
     "name": "stderr",
     "output_type": "stream",
     "text": [
      "2022-08-16 00:07:18.691826: I tensorflow/core/platform/cpu_feature_guard.cc:151] This TensorFlow binary is optimized with oneAPI Deep Neural Network Library (oneDNN) to use the following CPU instructions in performance-critical operations:  AVX2 FMA\n",
      "To enable them in other operations, rebuild TensorFlow with the appropriate compiler flags.\n"
     ]
    }
   ],
   "source": [
    "from keras.models import Sequential\n",
    "from keras.layers import Dense, Conv2D, Flatten\n",
    "\n",
    "input_shape=(IMG_SIZE, IMG_SIZE, 3)\n",
    "\n",
    "def build_feature_extractor():\n",
    "    feature_extractor = keras.models.Sequential([\n",
    "    keras.layers.Conv2D(6, kernel_size=5, strides=1,  activation='relu', input_shape=input_shape, padding='same'), #C1\n",
    "    keras.layers.AveragePooling2D(), #S2\n",
    "    keras.layers.Conv2D(16, kernel_size=5, strides=1, activation='relu', padding='valid'), #C3\n",
    "    keras.layers.AveragePooling2D(), #S4\n",
    "    keras.layers.Conv2D(120, kernel_size=5, strides=1, activation='relu', padding='valid'), #C5\n",
    "    keras.layers.Flatten(), #Flatten    \n",
    "])\n",
    "    feature_extractor.summary()\n",
    "\n",
    "    inputs = keras.Input((IMG_SIZE, IMG_SIZE, 3))\n",
    "    \n",
    "    outputs = feature_extractor(inputs)\n",
    "\n",
    "    return keras.Model(inputs, outputs, name=\"feature_extractor\")\n",
    "\n",
    "feature_extractor = build_feature_extractor()\n"
   ]
  },
  {
   "cell_type": "code",
   "execution_count": 11,
   "metadata": {
    "colab": {
     "base_uri": "https://localhost:8080/"
    },
    "id": "yD0FnRjC-Jjs",
    "outputId": "2d8c25cb-a3f7-4b88-c591-8a7c030f4322"
   },
   "outputs": [
    {
     "name": "stdout",
     "output_type": "stream",
     "text": [
      "['drowning', 'not drowning']\n"
     ]
    }
   ],
   "source": [
    "label_processor = keras.layers.StringLookup(\n",
    "    num_oov_indices=0, vocabulary=np.unique(train_df[\"tag\"])\n",
    ")\n",
    "print(label_processor.get_vocabulary())"
   ]
  },
  {
   "cell_type": "code",
   "execution_count": 14,
   "metadata": {
    "id": "C77LgqoC-SqE"
   },
   "outputs": [],
   "source": [
    "trainrootdir = (\"./vdataset\")\n",
    "testrootdir=(\"./vdataset\")\n"
   ]
  },
  {
   "cell_type": "code",
   "execution_count": 15,
   "metadata": {
    "colab": {
     "base_uri": "https://localhost:8080/"
    },
    "id": "1uova3s3-NwU",
    "outputId": "0aec59cb-9e96-492a-e4c4-0a847bc7eb64"
   },
   "outputs": [
    {
     "name": "stderr",
     "output_type": "stream",
     "text": [
      "58it [01:29,  1.55s/it]\n",
      "2it [00:03,  1.83s/it]"
     ]
    },
    {
     "name": "stdout",
     "output_type": "stream",
     "text": [
      "Frame features in train set: (58, 20, 300000)\n",
      "Frame masks in train set: (58, 20)\n"
     ]
    },
    {
     "name": "stderr",
     "output_type": "stream",
     "text": [
      "\n"
     ]
    }
   ],
   "source": [
    "from tqdm import tqdm\n",
    "def prepare_all_videos(df, root_dir):\n",
    "    num_samples = len(df)\n",
    "    video_paths = df[\"video_name\"].values.tolist()\n",
    "    labels = df[\"tag\"].values\n",
    "    labels = label_processor(labels[..., None]).numpy()\n",
    "\n",
    "    # `frame_masks` and `frame_features` are what we will feed to our sequence model.\n",
    "    \n",
    "    frame_masks = np.zeros(shape=(num_samples, MAX_SEQ_LENGTH), dtype=\"bool\")\n",
    "    frame_features = np.zeros(\n",
    "        shape=(num_samples, MAX_SEQ_LENGTH, NUM_FEATURES), dtype=\"float32\"\n",
    "    )\n",
    "\n",
    "    # For each video.\n",
    "    for idx, path in tqdm(enumerate(video_paths)):\n",
    "        # Gather all its frames and add a batch dimension.\n",
    "        frames = load_video(os.path.join(root_dir, path))\n",
    "        frames = frames[None, ...]\n",
    "\n",
    "        # Initialize placeholders to store the masks and features of the current video.\n",
    "        temp_frame_mask = np.zeros(shape=(1, MAX_SEQ_LENGTH,), dtype=\"bool\")\n",
    "        temp_frame_features = np.zeros(\n",
    "            shape=(1, MAX_SEQ_LENGTH, NUM_FEATURES), dtype=\"float32\"\n",
    "        )\n",
    "\n",
    "        # Extract features from the frames of the current video.\n",
    "        for i, batch in enumerate(frames):\n",
    "            video_length = batch.shape[0]\n",
    "            length = min(MAX_SEQ_LENGTH, video_length)\n",
    "            for j in range(length):\n",
    "                temp_frame_features[i, j, :] = feature_extractor.predict(\n",
    "                    batch[None, j, :]\n",
    "                )\n",
    "            temp_frame_mask[i, :length] = 1  # 1 = not masked, 0 = masked\n",
    "\n",
    "        frame_features[idx,] = temp_frame_features.squeeze()\n",
    "        frame_masks[idx,] = temp_frame_mask.squeeze()\n",
    "\n",
    "    return (frame_features, frame_masks), labels\n",
    "\n",
    "\n",
    "train_data, train_labels = prepare_all_videos(train_df, trainrootdir)\n",
    "test_data, test_labels = prepare_all_videos(test_df, testrootdir)\n",
    "\n",
    "print(f\"Frame features in train set: {train_data[0].shape}\")\n",
    "print(f\"Frame masks in train set: {train_data[1].shape}\")"
   ]
  },
  {
   "cell_type": "markdown",
   "metadata": {
    "id": "146HqAQ3BIBL"
   },
   "source": [
    "# LSTM Model and Evaluation"
   ]
  },
  {
   "cell_type": "code",
   "execution_count": 16,
   "metadata": {
    "id": "MkxU6a16b-AU"
   },
   "outputs": [],
   "source": [
    "import matplotlib.pyplot as plt\n",
    "from sklearn.metrics import ConfusionMatrixDisplay, cohen_kappa_score, classification_report\n",
    "from sklearn.metrics import confusion_matrix"
   ]
  },
  {
   "cell_type": "code",
   "execution_count": null,
   "metadata": {
    "colab": {
     "base_uri": "https://localhost:8080/",
     "height": 1000
    },
    "id": "rjweQBXekdpo",
    "outputId": "38c1f5a3-65fa-4349-8169-1c4a6d86eea5"
   },
   "outputs": [
    {
     "name": "stdout",
     "output_type": "stream",
     "text": [
      "Epoch 1/150\n",
      "2/2 [==============================] - ETA: 0s - loss: 0.6933 - accuracy: 0.5000 \n",
      "Epoch 00001: val_loss improved from inf to 0.69624, saving model to video_classifier\n",
      "2/2 [==============================] - 17s 5s/step - loss: 0.6933 - accuracy: 0.5000 - val_loss: 0.6962 - val_accuracy: 0.5000\n",
      "Epoch 2/150\n",
      "2/2 [==============================] - ETA: 0s - loss: 0.6964 - accuracy: 0.5000\n",
      "Epoch 00002: val_loss improved from 0.69624 to 0.67464, saving model to video_classifier\n",
      "2/2 [==============================] - 6s 3s/step - loss: 0.6964 - accuracy: 0.5000 - val_loss: 0.6746 - val_accuracy: 0.5000\n",
      "Epoch 3/150\n",
      "2/2 [==============================] - ETA: 0s - loss: 0.6987 - accuracy: 0.5000\n",
      "Epoch 00003: val_loss did not improve from 0.67464\n",
      "2/2 [==============================] - 3s 1s/step - loss: 0.6987 - accuracy: 0.5000 - val_loss: 0.6958 - val_accuracy: 0.5000\n",
      "Epoch 4/150\n",
      "2/2 [==============================] - ETA: 0s - loss: 0.6955 - accuracy: 0.5000\n",
      "Epoch 00004: val_loss did not improve from 0.67464\n",
      "2/2 [==============================] - 3s 1s/step - loss: 0.6955 - accuracy: 0.5000 - val_loss: 0.6951 - val_accuracy: 0.5000\n",
      "Epoch 5/150\n",
      "2/2 [==============================] - ETA: 0s - loss: 0.6948 - accuracy: 0.5000\n",
      "Epoch 00005: val_loss did not improve from 0.67464\n",
      "2/2 [==============================] - 3s 1s/step - loss: 0.6948 - accuracy: 0.5000 - val_loss: 0.6945 - val_accuracy: 0.5000\n",
      "Epoch 6/150\n",
      "2/2 [==============================] - ETA: 0s - loss: 0.6944 - accuracy: 0.5000\n",
      "Epoch 00006: val_loss did not improve from 0.67464\n",
      "2/2 [==============================] - 4s 1s/step - loss: 0.6944 - accuracy: 0.5000 - val_loss: 0.6940 - val_accuracy: 0.5000\n",
      "Epoch 7/150\n",
      "2/2 [==============================] - ETA: 0s - loss: 0.6937 - accuracy: 0.5000\n",
      "Epoch 00007: val_loss did not improve from 0.67464\n",
      "2/2 [==============================] - 4s 1s/step - loss: 0.6937 - accuracy: 0.5000 - val_loss: 0.6936 - val_accuracy: 0.5000\n",
      "Epoch 8/150\n",
      "2/2 [==============================] - ETA: 0s - loss: 0.6933 - accuracy: 0.5000\n",
      "Epoch 00008: val_loss did not improve from 0.67464\n",
      "2/2 [==============================] - 4s 1s/step - loss: 0.6933 - accuracy: 0.5000 - val_loss: 0.6934 - val_accuracy: 0.5000\n",
      "Epoch 9/150\n",
      "2/2 [==============================] - ETA: 0s - loss: 0.6932 - accuracy: 0.5000\n",
      "Epoch 00009: val_loss did not improve from 0.67464\n",
      "2/2 [==============================] - 3s 1s/step - loss: 0.6932 - accuracy: 0.5000 - val_loss: 0.6933 - val_accuracy: 0.5000\n",
      "Epoch 10/150\n",
      "2/2 [==============================] - ETA: 0s - loss: 0.6931 - accuracy: 0.5000\n",
      "Epoch 00010: val_loss did not improve from 0.67464\n",
      "2/2 [==============================] - 3s 1s/step - loss: 0.6931 - accuracy: 0.5000 - val_loss: 0.6932 - val_accuracy: 0.5000\n",
      "Epoch 11/150\n",
      "2/2 [==============================] - ETA: 0s - loss: 0.6931 - accuracy: 0.5000\n",
      "Epoch 00011: val_loss did not improve from 0.67464\n",
      "2/2 [==============================] - 3s 1s/step - loss: 0.6931 - accuracy: 0.5000 - val_loss: 0.6932 - val_accuracy: 0.5000\n",
      "Epoch 12/150\n",
      "2/2 [==============================] - ETA: 0s - loss: 0.6932 - accuracy: 0.5000\n",
      "Epoch 00012: val_loss did not improve from 0.67464\n",
      "2/2 [==============================] - 2s 1s/step - loss: 0.6932 - accuracy: 0.5000 - val_loss: 0.6931 - val_accuracy: 0.5000\n",
      "Epoch 13/150\n",
      "2/2 [==============================] - ETA: 0s - loss: 0.6931 - accuracy: 0.5000\n",
      "Epoch 00013: val_loss did not improve from 0.67464\n",
      "2/2 [==============================] - 2s 1s/step - loss: 0.6931 - accuracy: 0.5000 - val_loss: 0.6932 - val_accuracy: 0.5000\n",
      "Epoch 14/150\n",
      "2/2 [==============================] - ETA: 0s - loss: 0.6931 - accuracy: 0.5000\n",
      "Epoch 00014: val_loss did not improve from 0.67464\n",
      "2/2 [==============================] - 3s 1s/step - loss: 0.6931 - accuracy: 0.5000 - val_loss: 0.6932 - val_accuracy: 0.5000\n",
      "Epoch 15/150\n",
      "2/2 [==============================] - ETA: 0s - loss: 0.6904 - accuracy: 0.5690\n",
      "Epoch 00015: val_loss did not improve from 0.67464\n",
      "2/2 [==============================] - 4s 1s/step - loss: 0.6904 - accuracy: 0.5690 - val_loss: 0.6938 - val_accuracy: 0.5000\n",
      "Epoch 16/150\n",
      "2/2 [==============================] - ETA: 0s - loss: 0.6942 - accuracy: 0.5000\n",
      "Epoch 00016: val_loss did not improve from 0.67464\n",
      "2/2 [==============================] - 3s 1s/step - loss: 0.6942 - accuracy: 0.5000 - val_loss: 0.6937 - val_accuracy: 0.5000\n",
      "Epoch 17/150\n",
      "2/2 [==============================] - ETA: 0s - loss: 0.6938 - accuracy: 0.5000\n",
      "Epoch 00017: val_loss did not improve from 0.67464\n",
      "2/2 [==============================] - 3s 1s/step - loss: 0.6938 - accuracy: 0.5000 - val_loss: 0.6937 - val_accuracy: 0.5000\n",
      "Epoch 18/150\n",
      "2/2 [==============================] - ETA: 0s - loss: 0.6936 - accuracy: 0.5000\n",
      "Epoch 00018: val_loss did not improve from 0.67464\n",
      "2/2 [==============================] - 3s 961ms/step - loss: 0.6936 - accuracy: 0.5000 - val_loss: 0.6936 - val_accuracy: 0.5000\n",
      "Epoch 19/150\n",
      "2/2 [==============================] - ETA: 0s - loss: 0.6937 - accuracy: 0.5000\n",
      "Epoch 00019: val_loss did not improve from 0.67464\n",
      "2/2 [==============================] - 3s 1s/step - loss: 0.6937 - accuracy: 0.5000 - val_loss: 0.6935 - val_accuracy: 0.5000\n",
      "Epoch 20/150\n",
      "2/2 [==============================] - ETA: 0s - loss: 0.6935 - accuracy: 0.5000\n",
      "Epoch 00020: val_loss did not improve from 0.67464\n",
      "2/2 [==============================] - 3s 1s/step - loss: 0.6935 - accuracy: 0.5000 - val_loss: 0.6934 - val_accuracy: 0.5000\n",
      "Epoch 21/150\n",
      "2/2 [==============================] - ETA: 0s - loss: 0.6935 - accuracy: 0.5000\n",
      "Epoch 00021: val_loss did not improve from 0.67464\n",
      "2/2 [==============================] - 3s 1s/step - loss: 0.6935 - accuracy: 0.5000 - val_loss: 0.6934 - val_accuracy: 0.5000\n",
      "Epoch 22/150\n",
      "2/2 [==============================] - ETA: 0s - loss: 0.6933 - accuracy: 0.5000\n",
      "Epoch 00022: val_loss did not improve from 0.67464\n",
      "2/2 [==============================] - 3s 1s/step - loss: 0.6933 - accuracy: 0.5000 - val_loss: 0.6933 - val_accuracy: 0.5000\n",
      "Epoch 23/150\n",
      "2/2 [==============================] - ETA: 0s - loss: 0.6933 - accuracy: 0.5000\n",
      "Epoch 00023: val_loss did not improve from 0.67464\n",
      "2/2 [==============================] - 3s 940ms/step - loss: 0.6933 - accuracy: 0.5000 - val_loss: 0.6933 - val_accuracy: 0.5000\n",
      "Epoch 24/150\n",
      "2/2 [==============================] - ETA: 0s - loss: 0.6933 - accuracy: 0.5000\n",
      "Epoch 00024: val_loss did not improve from 0.67464\n",
      "2/2 [==============================] - 3s 1s/step - loss: 0.6933 - accuracy: 0.5000 - val_loss: 0.6932 - val_accuracy: 0.5000\n",
      "Epoch 25/150\n",
      "2/2 [==============================] - ETA: 0s - loss: 0.6932 - accuracy: 0.5000\n",
      "Epoch 00025: val_loss did not improve from 0.67464\n",
      "2/2 [==============================] - 3s 1s/step - loss: 0.6932 - accuracy: 0.5000 - val_loss: 0.6932 - val_accuracy: 0.5000\n",
      "Epoch 26/150\n",
      "2/2 [==============================] - ETA: 0s - loss: 0.6932 - accuracy: 0.5000\n",
      "Epoch 00026: val_loss did not improve from 0.67464\n",
      "2/2 [==============================] - 3s 1s/step - loss: 0.6932 - accuracy: 0.5000 - val_loss: 0.6932 - val_accuracy: 0.5000\n",
      "Epoch 27/150\n",
      "2/2 [==============================] - ETA: 0s - loss: 0.6932 - accuracy: 0.5000\n",
      "Epoch 00027: val_loss did not improve from 0.67464\n",
      "2/2 [==============================] - 3s 1s/step - loss: 0.6932 - accuracy: 0.5000 - val_loss: 0.6932 - val_accuracy: 0.5000\n",
      "Epoch 28/150\n",
      "2/2 [==============================] - ETA: 0s - loss: 0.6934 - accuracy: 0.5000\n",
      "Epoch 00028: val_loss did not improve from 0.67464\n",
      "2/2 [==============================] - 3s 1s/step - loss: 0.6934 - accuracy: 0.5000 - val_loss: 0.6932 - val_accuracy: 0.5000\n",
      "Epoch 29/150\n",
      "2/2 [==============================] - ETA: 0s - loss: 0.6931 - accuracy: 0.5000\n",
      "Epoch 00029: val_loss did not improve from 0.67464\n",
      "2/2 [==============================] - 3s 1s/step - loss: 0.6931 - accuracy: 0.5000 - val_loss: 0.6931 - val_accuracy: 0.5000\n",
      "Epoch 30/150\n",
      "2/2 [==============================] - ETA: 0s - loss: 0.6931 - accuracy: 0.5000\n",
      "Epoch 00030: val_loss did not improve from 0.67464\n",
      "2/2 [==============================] - 2s 967ms/step - loss: 0.6931 - accuracy: 0.5000 - val_loss: 0.6931 - val_accuracy: 0.5000\n"
     ]
    },
    {
     "name": "stdout",
     "output_type": "stream",
     "text": [
      "Epoch 31/150\n",
      "2/2 [==============================] - ETA: 0s - loss: 0.6931 - accuracy: 0.5000\n",
      "Epoch 00031: val_loss did not improve from 0.67464\n",
      "2/2 [==============================] - 3s 1s/step - loss: 0.6931 - accuracy: 0.5000 - val_loss: 0.6931 - val_accuracy: 0.5000\n",
      "Epoch 32/150\n",
      "2/2 [==============================] - ETA: 0s - loss: 0.6931 - accuracy: 0.5000\n",
      "Epoch 00032: val_loss did not improve from 0.67464\n",
      "2/2 [==============================] - 3s 1s/step - loss: 0.6931 - accuracy: 0.5000 - val_loss: 0.6931 - val_accuracy: 0.5000\n",
      "Epoch 33/150\n",
      "2/2 [==============================] - ETA: 0s - loss: 0.6932 - accuracy: 0.5000\n",
      "Epoch 00033: val_loss did not improve from 0.67464\n",
      "2/2 [==============================] - 3s 1s/step - loss: 0.6932 - accuracy: 0.5000 - val_loss: 0.6931 - val_accuracy: 0.5000\n",
      "Epoch 34/150\n",
      "2/2 [==============================] - ETA: 0s - loss: 0.6932 - accuracy: 0.5000\n",
      "Epoch 00034: val_loss did not improve from 0.67464\n",
      "2/2 [==============================] - 3s 1s/step - loss: 0.6932 - accuracy: 0.5000 - val_loss: 0.6931 - val_accuracy: 0.5000\n",
      "Epoch 35/150\n",
      "2/2 [==============================] - ETA: 0s - loss: 0.6931 - accuracy: 0.5000\n",
      "Epoch 00035: val_loss did not improve from 0.67464\n",
      "2/2 [==============================] - 3s 1s/step - loss: 0.6931 - accuracy: 0.5000 - val_loss: 0.6931 - val_accuracy: 0.5000\n",
      "Epoch 36/150\n",
      "2/2 [==============================] - ETA: 0s - loss: 0.6933 - accuracy: 0.5000\n",
      "Epoch 00036: val_loss did not improve from 0.67464\n",
      "2/2 [==============================] - 3s 1s/step - loss: 0.6933 - accuracy: 0.5000 - val_loss: 0.6932 - val_accuracy: 0.5000\n",
      "Epoch 37/150\n",
      "2/2 [==============================] - ETA: 0s - loss: 0.6932 - accuracy: 0.5000\n",
      "Epoch 00037: val_loss did not improve from 0.67464\n",
      "2/2 [==============================] - 3s 985ms/step - loss: 0.6932 - accuracy: 0.5000 - val_loss: 0.6931 - val_accuracy: 0.5000\n",
      "Epoch 38/150\n",
      "2/2 [==============================] - ETA: 0s - loss: 0.6933 - accuracy: 0.5000\n",
      "Epoch 00038: val_loss did not improve from 0.67464\n",
      "2/2 [==============================] - 2s 1s/step - loss: 0.6933 - accuracy: 0.5000 - val_loss: 0.6931 - val_accuracy: 0.5000\n",
      "Epoch 39/150\n",
      "2/2 [==============================] - ETA: 0s - loss: 0.6932 - accuracy: 0.3966\n",
      "Epoch 00039: val_loss did not improve from 0.67464\n",
      "2/2 [==============================] - 3s 1s/step - loss: 0.6932 - accuracy: 0.3966 - val_loss: 0.6931 - val_accuracy: 0.5000\n",
      "Epoch 40/150\n",
      "2/2 [==============================] - ETA: 0s - loss: 0.6932 - accuracy: 0.5000\n",
      "Epoch 00040: val_loss did not improve from 0.67464\n",
      "2/2 [==============================] - 3s 1s/step - loss: 0.6932 - accuracy: 0.5000 - val_loss: 0.6931 - val_accuracy: 0.5000\n",
      "Epoch 41/150\n",
      "2/2 [==============================] - ETA: 0s - loss: 0.6932 - accuracy: 0.5000\n",
      "Epoch 00041: val_loss did not improve from 0.67464\n",
      "2/2 [==============================] - 3s 1s/step - loss: 0.6932 - accuracy: 0.5000 - val_loss: 0.6932 - val_accuracy: 0.5000\n",
      "Epoch 42/150\n",
      "2/2 [==============================] - ETA: 0s - loss: 0.6932 - accuracy: 0.5000\n",
      "Epoch 00042: val_loss did not improve from 0.67464\n",
      "2/2 [==============================] - 3s 1s/step - loss: 0.6932 - accuracy: 0.5000 - val_loss: 0.6932 - val_accuracy: 0.5000\n",
      "Epoch 43/150\n",
      "2/2 [==============================] - ETA: 0s - loss: 0.6933 - accuracy: 0.5000\n",
      "Epoch 00043: val_loss did not improve from 0.67464\n",
      "2/2 [==============================] - 3s 1s/step - loss: 0.6933 - accuracy: 0.5000 - val_loss: 0.6931 - val_accuracy: 0.5000\n",
      "Epoch 44/150\n",
      "2/2 [==============================] - ETA: 0s - loss: 0.6932 - accuracy: 0.5000\n",
      "Epoch 00044: val_loss did not improve from 0.67464\n",
      "2/2 [==============================] - 3s 1s/step - loss: 0.6932 - accuracy: 0.5000 - val_loss: 0.6932 - val_accuracy: 0.5000\n",
      "Epoch 45/150\n",
      "2/2 [==============================] - ETA: 0s - loss: 0.6932 - accuracy: 0.5000\n",
      "Epoch 00045: val_loss did not improve from 0.67464\n",
      "2/2 [==============================] - 3s 991ms/step - loss: 0.6932 - accuracy: 0.5000 - val_loss: 0.6931 - val_accuracy: 0.5000\n",
      "Epoch 46/150\n",
      "2/2 [==============================] - ETA: 0s - loss: 0.6932 - accuracy: 0.5000\n",
      "Epoch 00046: val_loss did not improve from 0.67464\n",
      "2/2 [==============================] - 2s 1s/step - loss: 0.6932 - accuracy: 0.5000 - val_loss: 0.6931 - val_accuracy: 0.5000\n",
      "Epoch 47/150\n"
     ]
    }
   ],
   "source": [
    "def get_sequence_model():\n",
    "    class_vocab = label_processor.get_vocabulary()\n",
    "\n",
    "    frame_features_input = keras.Input((MAX_SEQ_LENGTH, NUM_FEATURES))\n",
    "    mask_input = keras.Input((MAX_SEQ_LENGTH,), dtype=\"bool\")\n",
    "\n",
    "\n",
    "    x = keras.layers.LSTM(8, return_sequences=True)(\n",
    "        frame_features_input, mask=mask_input\n",
    "    )\n",
    "    x = keras.layers.LSTM(8)(x)\n",
    "    #x = keras.layers.Dropout(0.3)(x)\n",
    "\n",
    "    x = keras.layers.Dense(30, activation=\"relu\")(x)\n",
    "    x = keras.layers.Dense(20, activation=\"relu\")(x)\n",
    "    x = keras.layers.Dense(10, activation=\"relu\")(x)\n",
    "    output = keras.layers.Dense(len(class_vocab), activation=\"softmax\")(x)\n",
    "\n",
    "    rnn_model = keras.Model([frame_features_input, mask_input], output)\n",
    "\n",
    "    rnn_model.compile(\n",
    "        loss=\"sparse_categorical_crossentropy\", optimizer=tf.keras.optimizers.Adam(learning_rate=1e-3), metrics=[\"accuracy\"],\n",
    "    )\n",
    "    return rnn_model\n",
    "\n",
    "\n",
    "# Utility for running experiments.\n",
    "def run_experiment():\n",
    "    filepath = \"video_classifier\"\n",
    "    checkpoint = keras.callbacks.ModelCheckpoint(\n",
    "        filepath, save_weights_only=True, save_best_only=True, verbose=1#, monitor=\"accuracy\"\n",
    "    )\n",
    "\n",
    "    seq_model = get_sequence_model()\n",
    "    history = seq_model.fit(\n",
    "        [train_data[0], train_data[1]],\n",
    "        train_labels,\n",
    "        #validation_split=0.2,\n",
    "        validation_data=([test_data[0], test_data[1]], test_labels), \n",
    "        epochs=150,\n",
    "        callbacks=[checkpoint]\n",
    "    )\n",
    "\n",
    "   #Plot Graphs\n",
    "    plt.figure(0)\n",
    "    plt.plot(history.history['accuracy'], label='Training accuracy')\n",
    "    plt.plot(history.history['val_accuracy'], label='Val accuracy')\n",
    "    plt.title('Accuracy')\n",
    "    plt.xlabel('Epochs')\n",
    "    plt.ylabel('Accuracy')\n",
    "    plt.legend()\n",
    "\n",
    "    plt.figure(1)\n",
    "    plt.plot(history.history['loss'], label='Training loss')\n",
    "    plt.plot(history.history['val_loss'], label='Val loss')\n",
    "    plt.title('Loss')\n",
    "    plt.xlabel('Epochs')\n",
    "    plt.ylabel('Loss')\n",
    "    plt.legend()\n",
    "    \n",
    "    seq_model.summary()\n",
    "\n",
    "    \n",
    "    #Experiments Summary\n",
    "    seq_model.load_weights(filepath)\n",
    "    model_results = seq_model.evaluate([test_data[0], test_data[1]], test_labels)\n",
    "    print(f\"Test accuracy: {round(model_results[1] * 100, 2)}%\")\n",
    "    print(\"Test loss:\" + str(model_results[0]))\n",
    "    \n",
    "\n",
    "\n",
    "    test_pred = seq_model.predict([test_data[0], test_data[1]])\n",
    "    test_pred = list(np.argmax(test_pred,axis = 1))\n",
    "\n",
    "   \n",
    "    #Cohen's Kappa and F1 Score\n",
    "    ConfusionMatrixDisplay.from_predictions(test_labels, test_pred)\n",
    "\n",
    "    print(\"Cohen's Kappa:\"+str (cohen_kappa_score(test_labels, test_pred)))\n",
    "    print(classification_report(test_labels, test_pred))\n",
    "\n",
    "    return history, seq_model\n",
    "\n",
    "\n",
    "_, sequence_model = run_experiment()"
   ]
  },
  {
   "cell_type": "code",
   "execution_count": null,
   "metadata": {},
   "outputs": [],
   "source": []
  },
  {
   "cell_type": "code",
   "execution_count": null,
   "metadata": {},
   "outputs": [],
   "source": []
  },
  {
   "cell_type": "code",
   "execution_count": null,
   "metadata": {},
   "outputs": [],
   "source": []
  },
  {
   "cell_type": "code",
   "execution_count": null,
   "metadata": {},
   "outputs": [],
   "source": []
  }
 ],
 "metadata": {
  "accelerator": "GPU",
  "colab": {
   "collapsed_sections": [],
   "name": "VideoClassification - CNN-LSTM",
   "provenance": []
  },
  "kernelspec": {
   "display_name": "Python 3 (ipykernel)",
   "language": "python",
   "name": "python3"
  },
  "language_info": {
   "codemirror_mode": {
    "name": "ipython",
    "version": 3
   },
   "file_extension": ".py",
   "mimetype": "text/x-python",
   "name": "python",
   "nbconvert_exporter": "python",
   "pygments_lexer": "ipython3",
   "version": "3.9.13"
  }
 },
 "nbformat": 4,
 "nbformat_minor": 1
}
